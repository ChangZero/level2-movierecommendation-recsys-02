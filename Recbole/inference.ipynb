{
 "cells": [
  {
   "cell_type": "code",
   "execution_count": null,
   "metadata": {},
   "outputs": [],
   "source": []
  },
  {
   "cell_type": "code",
   "execution_count": null,
   "metadata": {},
   "outputs": [],
   "source": []
  },
  {
   "cell_type": "code",
   "execution_count": 1,
   "metadata": {},
   "outputs": [
    {
     "name": "stderr",
     "output_type": "stream",
     "text": [
      "/home/minseo/anaconda3/envs/Recbole/lib/python3.9/site-packages/tqdm/auto.py:21: TqdmWarning: IProgress not found. Please update jupyter and ipywidgets. See https://ipywidgets.readthedocs.io/en/stable/user_install.html\n",
      "  from .autonotebook import tqdm as notebook_tqdm\n",
      "2024-02-20 09:52:47,217\tINFO util.py:159 -- Missing packages: ['ipywidgets']. Run `pip install -U ipywidgets`, then restart the notebook server for rich notebook output.\n"
     ]
    }
   ],
   "source": [
    "import numpy as np\n",
    "import torch\n",
    "from tqdm import tqdm\n",
    "from recbole.quick_start.quick_start import load_data_and_model\n",
    "from recbole.utils.case_study import full_sort_topk, full_sort_scores\n",
    "import pandas as pd\n",
    "import os\n",
    "model_path='ADMMSLIM-Feb-20-2024_06-42-05.pth'\n",
    "topk=10\n",
    "save_path='submission.csv'\n",
    "config, model, dataset, train_data, valid_data, test_data = load_data_and_model(\n",
    "    model_file=os.path.join('saved',model_path))\n",
    "\n",
    "df = pd.read_csv('/home/minseo/Project/Recbole/data/train/train_ratings.csv')\n",
    "user_grp = dict(df.groupby('user').item.apply(list))\n",
    "\n",
    "submission = pd.read_csv('/home/minseo/Project/Recbole/data/eval/sample_submission.csv')\n",
    "sub_user_idx = submission['user'].unique()\n",
    "sub_user_idx = np.array(sub_user_idx,dtype=str)\n",
    "uid_series = dataset.token2id(dataset.uid_field, sub_user_idx)\n",
    "total_topk_score, total_topk_iid_list = torch.zeros_like(torch.Tensor(31360, topk)), torch.zeros_like(torch.Tensor(31360, topk))\n",
    "\n",
    "for idx in tqdm(range(0,len(uid_series))):\n",
    "    need_inf = dataset.token2id(dataset.iid_field, np.array(user_grp[int(sub_user_idx[idx])],dtype=str))\n",
    "    mask = [True if i in need_inf else False for i in range(0,6808)]\n",
    "    scores = full_sort_scores(np.array([uid_series[idx]]),model,valid_data,config['device'])\n",
    "    new_scores=scores.cpu().masked_fill(torch.from_numpy(np.array(mask)),float('-inf'))    \n",
    "    total_topk_score[idx] = torch.topk(new_scores,topk)[0]\n",
    "    total_topk_iid_list[idx] = torch.topk(new_scores,topk)[1]\n",
    "    \n",
    "int_iid = total_topk_iid_list.to(torch.int64)\n",
    "external_item_list = dataset.id2token(dataset.iid_field, int_iid.cpu())\n",
    "external_item_list = external_item_list.flatten()\n",
    "df = pd.DataFrame({'user': np.repeat(sub_user_idx, topk), 'item': external_item_list})\n",
    "df.to_csv(save_path,index=False)\n"
   ]
  },
  {
   "cell_type": "code",
   "execution_count": null,
   "metadata": {},
   "outputs": [],
   "source": [
    "saved_val = valid_data"
   ]
  },
  {
   "cell_type": "code",
   "execution_count": null,
   "metadata": {},
   "outputs": [],
   "source": []
  },
  {
   "cell_type": "code",
   "execution_count": null,
   "metadata": {},
   "outputs": [
    {
     "name": "stdout",
     "output_type": "stream",
     "text": [
      "torch.Size([302]) torch.Size([302])\n",
      "torch.Size([144]) torch.Size([144])\n"
     ]
    }
   ],
   "source": []
  },
  {
   "cell_type": "code",
   "execution_count": null,
   "metadata": {},
   "outputs": [
    {
     "name": "stderr",
     "output_type": "stream",
     "text": [
      "20 Feb 09:26    INFO  \n",
      "General Hyper Parameters:\n",
      "gpu_id = 0\n",
      "use_gpu = True\n",
      "seed = 2020\n",
      "state = INFO\n",
      "reproducibility = True\n",
      "data_path = dataset/ML\n",
      "checkpoint_dir = saved\n",
      "show_progress = True\n",
      "save_dataset = False\n",
      "dataset_save_path = None\n",
      "save_dataloaders = False\n",
      "dataloaders_save_path = None\n",
      "log_wandb = False\n",
      "\n",
      "Training Hyper Parameters:\n",
      "epochs = 300\n",
      "train_batch_size = 2048\n",
      "learner = adam\n",
      "learning_rate = 0.001\n",
      "train_neg_sample_args = {'distribution': 'none', 'sample_num': 'none', 'alpha': 'none', 'dynamic': False, 'candidate_num': 0}\n",
      "eval_step = 1\n",
      "stopping_step = 10\n",
      "clip_grad_norm = None\n",
      "weight_decay = 0.0\n",
      "loss_decimal_place = 4\n",
      "\n",
      "Evaluation Hyper Parameters:\n",
      "eval_args = {'split': {'RS': [0.8, 0.1, 0.1]}, 'order': 'TO', 'group_by': 'user', 'mode': {'valid': 'full', 'test': 'full'}}\n",
      "repeatable = True\n",
      "metrics = ['Recall', 'MRR', 'NDCG', 'Hit', 'Precision']\n",
      "topk = [10]\n",
      "valid_metric = Recall@10\n",
      "valid_metric_bigger = True\n",
      "eval_batch_size = 4096\n",
      "metric_decimal_place = 4\n",
      "\n",
      "Dataset Hyper Parameters:\n",
      "field_separator = \t\n",
      "seq_separator =  \n",
      "USER_ID_FIELD = user_id\n",
      "ITEM_ID_FIELD = item_id\n",
      "RATING_FIELD = rating\n",
      "TIME_FIELD = timestamp\n",
      "seq_len = None\n",
      "LABEL_FIELD = label\n",
      "threshold = None\n",
      "NEG_PREFIX = neg_\n",
      "load_col = {'inter': ['user_id', 'item_id', 'timestamp']}\n",
      "unload_col = None\n",
      "unused_col = None\n",
      "additional_feat_suffix = None\n",
      "rm_dup_inter = None\n",
      "val_interval = None\n",
      "filter_inter_by_user_or_item = True\n",
      "user_inter_num_interval = [0,inf)\n",
      "item_inter_num_interval = [0,inf)\n",
      "alias_of_user_id = None\n",
      "alias_of_item_id = None\n",
      "alias_of_entity_id = None\n",
      "alias_of_relation_id = None\n",
      "preload_weight = None\n",
      "normalize_field = None\n",
      "normalize_all = None\n",
      "ITEM_LIST_LENGTH_FIELD = item_length\n",
      "LIST_SUFFIX = _list\n",
      "MAX_ITEM_LIST_LENGTH = 50\n",
      "POSITION_FIELD = position_id\n",
      "HEAD_ENTITY_ID_FIELD = head_id\n",
      "TAIL_ENTITY_ID_FIELD = tail_id\n",
      "RELATION_ID_FIELD = relation_id\n",
      "ENTITY_ID_FIELD = entity_id\n",
      "benchmark_filename = None\n",
      "\n",
      "Other Hyper Parameters: \n",
      "worker = 0\n",
      "wandb_project = recbole\n",
      "shuffle = True\n",
      "require_pow = False\n",
      "enable_amp = False\n",
      "enable_scaler = False\n",
      "transform = None\n",
      "n_layers = 2\n",
      "n_heads = 2\n",
      "hidden_size = 64\n",
      "inner_size = 256\n",
      "hidden_dropout_prob = 0.5\n",
      "attn_dropout_prob = 0.5\n",
      "hidden_act = gelu\n",
      "layer_norm_eps = 1e-12\n",
      "initializer_range = 0.02\n",
      "loss_type = CE\n",
      "numerical_features = []\n",
      "discretization = None\n",
      "kg_reverse_r = False\n",
      "entity_kg_num_interval = [0,inf)\n",
      "relation_kg_num_interval = [0,inf)\n",
      "MODEL_TYPE = ModelType.SEQUENTIAL\n",
      "MODEL_INPUT_TYPE = InputType.POINTWISE\n",
      "eval_type = EvaluatorType.RANKING\n",
      "single_spec = True\n",
      "local_rank = 0\n",
      "device = cuda\n",
      "valid_neg_sample_args = {'distribution': 'uniform', 'sample_num': 'none'}\n",
      "test_neg_sample_args = {'distribution': 'uniform', 'sample_num': 'none'}\n",
      "\n",
      "\n",
      "20 Feb 09:26    INFO  ML\n",
      "The number of users: 31361\n",
      "Average actions of users: 164.36450892857144\n",
      "The number of items: 6808\n",
      "Average actions of items: 757.2309387395328\n",
      "The number of inters: 5154471\n",
      "The sparsity of the dataset: 97.58579218741939%\n",
      "Remain Fields: ['user_id', 'item_id', 'timestamp']\n",
      "20 Feb 09:27    INFO  [Training]: train_batch_size = [2048] train_neg_sample_args: [{'distribution': 'none', 'sample_num': 'none', 'alpha': 'none', 'dynamic': False, 'candidate_num': 0}]\n",
      "20 Feb 09:27    INFO  [Evaluation]: eval_batch_size = [4096] eval_args: [{'split': {'RS': [0.8, 0.1, 0.1]}, 'order': 'TO', 'group_by': 'user', 'mode': {'valid': 'full', 'test': 'full'}}]\n"
     ]
    }
   ],
   "source": []
  },
  {
   "cell_type": "code",
   "execution_count": null,
   "metadata": {},
   "outputs": [
    {
     "name": "stdout",
     "output_type": "stream",
     "text": [
      "(The batch_size of interaction: 4096\n",
      "    user_id, torch.Size([4096]), cpu, torch.int64\n",
      "    item_id, torch.Size([4096]), cpu, torch.int64\n",
      "    timestamp, torch.Size([4096]), cpu, torch.float32\n",
      "    item_length, torch.Size([4096]), cpu, torch.int64\n",
      "    item_id_list, torch.Size([4096, 50]), cpu, torch.int64\n",
      "    timestamp_list, torch.Size([4096, 50]), cpu, torch.float32\n",
      "\n",
      ", None, tensor([   0,    1,    2,  ..., 4093, 4094, 4095]), tensor([ 985, 4683,  805,  ..., 1678, 1348, 1321]))\n"
     ]
    }
   ],
   "source": []
  },
  {
   "cell_type": "code",
   "execution_count": null,
   "metadata": {},
   "outputs": [
    {
     "name": "stderr",
     "output_type": "stream",
     "text": [
      "  0%|          | 0/31360 [00:00<?, ?it/s]\n"
     ]
    },
    {
     "ename": "KeyError",
     "evalue": "'item_id_list'",
     "output_type": "error",
     "traceback": [
      "\u001b[0;31m---------------------------------------------------------------------------\u001b[0m",
      "\u001b[0;31mKeyError\u001b[0m                                  Traceback (most recent call last)",
      "Cell \u001b[0;32mIn[6], line 13\u001b[0m\n\u001b[1;32m     11\u001b[0m need_inf \u001b[38;5;241m=\u001b[39m dataset\u001b[38;5;241m.\u001b[39mtoken2id(dataset\u001b[38;5;241m.\u001b[39miid_field, np\u001b[38;5;241m.\u001b[39marray(user_grp[\u001b[38;5;28mint\u001b[39m(sub_user_idx[idx])],dtype\u001b[38;5;241m=\u001b[39m\u001b[38;5;28mstr\u001b[39m))\n\u001b[1;32m     12\u001b[0m mask \u001b[38;5;241m=\u001b[39m [\u001b[38;5;28;01mTrue\u001b[39;00m \u001b[38;5;28;01mif\u001b[39;00m i \u001b[38;5;129;01min\u001b[39;00m need_inf \u001b[38;5;28;01melse\u001b[39;00m \u001b[38;5;28;01mFalse\u001b[39;00m \u001b[38;5;28;01mfor\u001b[39;00m i \u001b[38;5;129;01min\u001b[39;00m \u001b[38;5;28mrange\u001b[39m(\u001b[38;5;241m0\u001b[39m,\u001b[38;5;241m6808\u001b[39m)]\n\u001b[0;32m---> 13\u001b[0m scores \u001b[38;5;241m=\u001b[39m \u001b[43mfull_sort_scores\u001b[49m\u001b[43m(\u001b[49m\u001b[43mnp\u001b[49m\u001b[38;5;241;43m.\u001b[39;49m\u001b[43marray\u001b[49m\u001b[43m(\u001b[49m\u001b[43m[\u001b[49m\u001b[43muid_series\u001b[49m\u001b[43m[\u001b[49m\u001b[43midx\u001b[49m\u001b[43m]\u001b[49m\u001b[43m]\u001b[49m\u001b[43m)\u001b[49m\u001b[43m,\u001b[49m\u001b[43mmodel\u001b[49m\u001b[43m,\u001b[49m\u001b[43msaved_val\u001b[49m\u001b[43m,\u001b[49m\u001b[43mconfig\u001b[49m\u001b[43m[\u001b[49m\u001b[38;5;124;43m'\u001b[39;49m\u001b[38;5;124;43mdevice\u001b[39;49m\u001b[38;5;124;43m'\u001b[39;49m\u001b[43m]\u001b[49m\u001b[43m)\u001b[49m\n\u001b[1;32m     14\u001b[0m new_scores\u001b[38;5;241m=\u001b[39mscores\u001b[38;5;241m.\u001b[39mcpu()\u001b[38;5;241m.\u001b[39mmasked_fill(torch\u001b[38;5;241m.\u001b[39mfrom_numpy(np\u001b[38;5;241m.\u001b[39marray(mask)),\u001b[38;5;28mfloat\u001b[39m(\u001b[38;5;124m'\u001b[39m\u001b[38;5;124m-inf\u001b[39m\u001b[38;5;124m'\u001b[39m))    \n\u001b[1;32m     15\u001b[0m total_topk_score[idx] \u001b[38;5;241m=\u001b[39m torch\u001b[38;5;241m.\u001b[39mtopk(new_scores,topk)[\u001b[38;5;241m0\u001b[39m]\n",
      "File \u001b[0;32m~/anaconda3/envs/Recbole/lib/python3.9/site-packages/torch/utils/_contextlib.py:115\u001b[0m, in \u001b[0;36mcontext_decorator.<locals>.decorate_context\u001b[0;34m(*args, **kwargs)\u001b[0m\n\u001b[1;32m    112\u001b[0m \u001b[38;5;129m@functools\u001b[39m\u001b[38;5;241m.\u001b[39mwraps(func)\n\u001b[1;32m    113\u001b[0m \u001b[38;5;28;01mdef\u001b[39;00m \u001b[38;5;21mdecorate_context\u001b[39m(\u001b[38;5;241m*\u001b[39margs, \u001b[38;5;241m*\u001b[39m\u001b[38;5;241m*\u001b[39mkwargs):\n\u001b[1;32m    114\u001b[0m     \u001b[38;5;28;01mwith\u001b[39;00m ctx_factory():\n\u001b[0;32m--> 115\u001b[0m         \u001b[38;5;28;01mreturn\u001b[39;00m \u001b[43mfunc\u001b[49m\u001b[43m(\u001b[49m\u001b[38;5;241;43m*\u001b[39;49m\u001b[43margs\u001b[49m\u001b[43m,\u001b[49m\u001b[43m \u001b[49m\u001b[38;5;241;43m*\u001b[39;49m\u001b[38;5;241;43m*\u001b[39;49m\u001b[43mkwargs\u001b[49m\u001b[43m)\u001b[49m\n",
      "File \u001b[0;32m~/anaconda3/envs/Recbole/lib/python3.9/site-packages/recbole/utils/case_study.py:62\u001b[0m, in \u001b[0;36mfull_sort_scores\u001b[0;34m(uid_series, model, test_data, device)\u001b[0m\n\u001b[1;32m     60\u001b[0m input_interaction \u001b[38;5;241m=\u001b[39m input_interaction\u001b[38;5;241m.\u001b[39mto(device)\n\u001b[1;32m     61\u001b[0m \u001b[38;5;28;01mtry\u001b[39;00m:\n\u001b[0;32m---> 62\u001b[0m     scores \u001b[38;5;241m=\u001b[39m \u001b[43mmodel\u001b[49m\u001b[38;5;241;43m.\u001b[39;49m\u001b[43mfull_sort_predict\u001b[49m\u001b[43m(\u001b[49m\u001b[43minput_interaction\u001b[49m\u001b[43m)\u001b[49m\n\u001b[1;32m     63\u001b[0m \u001b[38;5;28;01mexcept\u001b[39;00m \u001b[38;5;167;01mNotImplementedError\u001b[39;00m:\n\u001b[1;32m     64\u001b[0m     input_interaction \u001b[38;5;241m=\u001b[39m input_interaction\u001b[38;5;241m.\u001b[39mrepeat_interleave(dataset\u001b[38;5;241m.\u001b[39mitem_num)\n",
      "File \u001b[0;32m~/anaconda3/envs/Recbole/lib/python3.9/site-packages/recbole/model/sequential_recommender/sasrec.py:145\u001b[0m, in \u001b[0;36mSASRec.full_sort_predict\u001b[0;34m(self, interaction)\u001b[0m\n\u001b[1;32m    144\u001b[0m \u001b[38;5;28;01mdef\u001b[39;00m \u001b[38;5;21mfull_sort_predict\u001b[39m(\u001b[38;5;28mself\u001b[39m, interaction):\n\u001b[0;32m--> 145\u001b[0m     item_seq \u001b[38;5;241m=\u001b[39m \u001b[43minteraction\u001b[49m\u001b[43m[\u001b[49m\u001b[38;5;28;43mself\u001b[39;49m\u001b[38;5;241;43m.\u001b[39;49m\u001b[43mITEM_SEQ\u001b[49m\u001b[43m]\u001b[49m\n\u001b[1;32m    146\u001b[0m     item_seq_len \u001b[38;5;241m=\u001b[39m interaction[\u001b[38;5;28mself\u001b[39m\u001b[38;5;241m.\u001b[39mITEM_SEQ_LEN]\n\u001b[1;32m    147\u001b[0m     seq_output \u001b[38;5;241m=\u001b[39m \u001b[38;5;28mself\u001b[39m\u001b[38;5;241m.\u001b[39mforward(item_seq, item_seq_len)\n",
      "File \u001b[0;32m~/anaconda3/envs/Recbole/lib/python3.9/site-packages/recbole/data/interaction.py:135\u001b[0m, in \u001b[0;36mInteraction.__getitem__\u001b[0;34m(self, index)\u001b[0m\n\u001b[1;32m    133\u001b[0m \u001b[38;5;28;01mdef\u001b[39;00m \u001b[38;5;21m__getitem__\u001b[39m(\u001b[38;5;28mself\u001b[39m, index):\n\u001b[1;32m    134\u001b[0m     \u001b[38;5;28;01mif\u001b[39;00m \u001b[38;5;28misinstance\u001b[39m(index, \u001b[38;5;28mstr\u001b[39m):\n\u001b[0;32m--> 135\u001b[0m         \u001b[38;5;28;01mreturn\u001b[39;00m \u001b[38;5;28;43mself\u001b[39;49m\u001b[38;5;241;43m.\u001b[39;49m\u001b[43minteraction\u001b[49m\u001b[43m[\u001b[49m\u001b[43mindex\u001b[49m\u001b[43m]\u001b[49m\n\u001b[1;32m    136\u001b[0m     \u001b[38;5;28;01mif\u001b[39;00m \u001b[38;5;28misinstance\u001b[39m(index, (np\u001b[38;5;241m.\u001b[39mndarray, torch\u001b[38;5;241m.\u001b[39mTensor)):\n\u001b[1;32m    137\u001b[0m         index \u001b[38;5;241m=\u001b[39m index\u001b[38;5;241m.\u001b[39mtolist()\n",
      "\u001b[0;31mKeyError\u001b[0m: 'item_id_list'"
     ]
    }
   ],
   "source": [
    "df = pd.read_csv('/home/minseo/Project/Recbole/data/train/train_ratings.csv')\n",
    "user_grp = dict(df.groupby('user').item.apply(list))\n",
    "\n",
    "submission = pd.read_csv('/home/minseo/Project/Recbole/data/eval/sample_submission.csv')\n",
    "sub_user_idx = submission['user'].unique()\n",
    "sub_user_idx = np.array(sub_user_idx,dtype=str)\n",
    "uid_series = dataset.token2id(dataset.uid_field, sub_user_idx)\n",
    "total_topk_score, total_topk_iid_list = torch.zeros_like(torch.Tensor(31360, topk)), torch.zeros_like(torch.Tensor(31360, topk))\n",
    "\n",
    "for idx in tqdm(range(0,len(uid_series))):\n",
    "    need_inf = dataset.token2id(dataset.iid_field, np.array(user_grp[int(sub_user_idx[idx])],dtype=str))\n",
    "    mask = [True if i in need_inf else False for i in range(0,6808)]\n",
    "    scores = full_sort_scores(np.array([uid_series[idx]]),model,saved_val,config['device'])\n",
    "    new_scores=scores.cpu().masked_fill(torch.from_numpy(np.array(mask)),float('-inf'))    \n",
    "    total_topk_score[idx] = torch.topk(new_scores,topk)[0]\n",
    "    total_topk_iid_list[idx] = torch.topk(new_scores,topk)[1]\n",
    "    \n",
    "int_iid = total_topk_iid_list.to(torch.int64)\n",
    "external_item_list = dataset.id2token(dataset.iid_field, int_iid.cpu())\n",
    "external_item_list = external_item_list.flatten()\n",
    "df = pd.DataFrame({'user': np.repeat(sub_user_idx, topk), 'item': external_item_list})\n",
    "df.to_csv(save_path,index=False)"
   ]
  },
  {
   "cell_type": "code",
   "execution_count": null,
   "metadata": {},
   "outputs": [
    {
     "data": {
      "text/plain": [
       "torch.Size([37, 6808])"
      ]
     },
     "execution_count": 27,
     "metadata": {},
     "output_type": "execute_result"
    }
   ],
   "source": [
    "new_scores.shape"
   ]
  },
  {
   "cell_type": "code",
   "execution_count": null,
   "metadata": {},
   "outputs": [],
   "source": []
  }
 ],
 "metadata": {
  "kernelspec": {
   "display_name": "Recbole",
   "language": "python",
   "name": "python3"
  },
  "language_info": {
   "codemirror_mode": {
    "name": "ipython",
    "version": 3
   },
   "file_extension": ".py",
   "mimetype": "text/x-python",
   "name": "python",
   "nbconvert_exporter": "python",
   "pygments_lexer": "ipython3",
   "version": "3.9.18"
  }
 },
 "nbformat": 4,
 "nbformat_minor": 2
}
